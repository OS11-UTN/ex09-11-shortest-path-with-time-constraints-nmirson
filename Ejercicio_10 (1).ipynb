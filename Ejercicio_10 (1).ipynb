{
  "nbformat": 4,
  "nbformat_minor": 0,
  "metadata": {
    "colab": {
      "name": "Ejercicio_10",
      "provenance": [],
      "collapsed_sections": []
    },
    "kernelspec": {
      "name": "python3",
      "display_name": "Python 3"
    }
  },
  "cells": [
    {
      "cell_type": "code",
      "metadata": {
        "id": "cSiOVwvI5YnG",
        "colab_type": "code",
        "colab": {
          "base_uri": "https://localhost:8080/",
          "height": 701
        },
        "outputId": "0e05c0ce-7c30-4bd2-f601-87fa58207a65"
      },
      "source": [
        "import numpy as np\n",
        "from scipy.optimize import linprog\n",
        "import matplotlib.pyplot as plt\n",
        "\n",
        "def nn2na(NN):\n",
        "    # Get every location where exist an arc:\n",
        "    idxs = np.argwhere(NN)\n",
        "    # Preallocate NA matrix, dimension is (nodes, arcs)\n",
        "    NA = np.zeros([NN.shape[0], idxs.shape[0]]).astype(int)\n",
        "    C = np.zeros(NA.shape[1])\n",
        "    # Loop in every arc, complete from (1) to (-1)\n",
        "    for i, arc in enumerate(idxs):\n",
        "        # Node arc:\n",
        "        NA[arc[0], i] = 1 # From\n",
        "        NA[arc[1], i] = -1 # To\n",
        "\n",
        "    arc_idxs = [(arc[0], arc[1]) for arc in idxs]\n",
        "\n",
        "    return NA, arc_idxs\n",
        "\n",
        "\n",
        "#importing the data - NN matrix\n",
        "\n",
        "NN = np.array([[0, 1, 1, 0, 0, 0],   \n",
        "               [0, 0, 0, 1, 0, 1],   \n",
        "               [0, 0, 0, 0, 1, 0],   \n",
        "               [0, 0, 0, 0, 0, 1],   \n",
        "               [0, 0, 0, 0, 0, 1],   \n",
        "               [0, 0, 0, 0, 0, 0]])  \n",
        "                     \n",
        "#formulation of LP\n",
        "Aeq, arcs = nn2na(NN) \n",
        "T_a = np.array([[3, 1, 3, 1, 3, 3, 5]])\n",
        "beq = [1, 0, 0, 0, 0, -1]\n",
        "T_b = 8\n",
        "C = np.array([2, 1, 2, 5, 2, 1, 2])\n",
        "\n",
        "bounds = tuple([(0, None) for arc in range(0, Aeq.shape[1])])\n",
        "\n",
        "#lamda manual search\n",
        "lam = np.array([0, 0.1, 0.2, 0.3, 0.4, 0.5, 0.6, 0.7, 0.8, 0.9, 1])\n",
        "\n",
        "def new_c(lam):\n",
        "    return C + lam * T_a[0]\n",
        "\n",
        "\n",
        "L = np.zeros(lam.size)\n",
        "for j in range(lam.size):\n",
        "    Cm = new_c(lam[j])\n",
        "    #OPTIMIZE:\n",
        "    res = linprog(Cm, A_eq=Aeq, b_eq=beq, bounds=bounds, method='revised simplex')\n",
        "    print(\"\\nWith a lamda of\",lam[j], \"the value is =\" , format(res.fun - lam[j] * T_b,'.2f'))\n",
        "    L[j] = res.fun - lam[j] * T_b\n",
        "\n",
        "plt.scatter(lam, L, color='r')\n",
        "plt.xlabel(\"Lambda\")\n",
        "plt.ylabel(\"Value\")\n",
        "plt.show()"
      ],
      "execution_count": 4,
      "outputs": [
        {
          "output_type": "stream",
          "text": [
            "\n",
            "With a lamda of 0.0 the value is = 5.00\n",
            "\n",
            "With a lamda of 0.1 the value is = 5.10\n",
            "\n",
            "With a lamda of 0.2 the value is = 5.20\n",
            "\n",
            "With a lamda of 0.3 the value is = 5.30\n",
            "\n",
            "With a lamda of 0.4 the value is = 5.40\n",
            "\n",
            "With a lamda of 0.5 the value is = 5.00\n",
            "\n",
            "With a lamda of 0.6 the value is = 4.60\n",
            "\n",
            "With a lamda of 0.7 the value is = 4.20\n",
            "\n",
            "With a lamda of 0.8 the value is = 3.80\n",
            "\n",
            "With a lamda of 0.9 the value is = 3.40\n",
            "\n",
            "With a lamda of 1.0 the value is = 3.00\n"
          ],
          "name": "stdout"
        },
        {
          "output_type": "stream",
          "text": [
            "/usr/local/lib/python3.6/dist-packages/ipykernel_launcher.py:51: OptimizeWarning: A_eq does not appear to be of full row rank. To improve performance, check the problem formulation for redundant equality constraints.\n"
          ],
          "name": "stderr"
        },
        {
          "output_type": "display_data",
          "data": {
            "image/png": "[encoded data removed]",
            "text/plain": [
              "<Figure size 432x288 with 1 Axes>"
            ]
          },
          "metadata": {
            "tags": [],
            "needs_background": "light"
          }
        }
      ]
    }
  ]
}