{
  "nbformat": 4,
  "nbformat_minor": 0,
  "metadata": {
    "colab": {
      "name": "Ejercicio_9",
      "provenance": [],
      "collapsed_sections": []
    },
    "kernelspec": {
      "name": "python3",
      "display_name": "Python 3"
    }
  },
  "cells": [
    {
      "cell_type": "code",
      "metadata": {
        "id": "tTuimUemtmAo",
        "colab_type": "code",
        "colab": {
          "base_uri": "https://localhost:8080/",
          "height": 471
        },
        "outputId": "84e8d1c1-6897-44a8-f917-a59657958376"
      },
      "source": [
        "import numpy as np\n",
        "from scipy.optimize import linprog\n",
        "\n",
        "def nn2na(NN):\n",
        "    # Get every location where exist an arc:\n",
        "    idxs = np.argwhere(NN)\n",
        "    # Preallocate NA matrix, dimension is (nodes, arcs)\n",
        "    NA = np.zeros([NN.shape[0], idxs.shape[0]]).astype(int)\n",
        "    C = np.zeros(NA.shape[1])\n",
        "    # Loop in every arc, complete from (1) to (-1)\n",
        "    for i, arc in enumerate(idxs):\n",
        "        # Node arc:\n",
        "        NA[arc[0], i] = 1 # From\n",
        "        NA[arc[1], i] = -1 # To\n",
        "\n",
        "    arc_idxs = [(arc[0], arc[1]) for arc in idxs]\n",
        "\n",
        "    return NA, arc_idxs\n",
        "\n",
        "\n",
        "#importing the data - NN matrix\n",
        "\n",
        "NN = np.array([[0, 1, 1, 0, 0, 0], \n",
        "               [0, 0, 0, 1, 0, 1], \n",
        "               [0, 0, 0, 0, 1, 0], \n",
        "               [0, 0, 0, 0, 0, 1], \n",
        "               [0, 0, 0, 0, 0, 1], \n",
        "               [0, 0, 0, 0, 0, 0]]) \n",
        "                     \n",
        "\n",
        "#formulation of LP\n",
        "Aeq, arcs = nn2na(NN) \n",
        "T_a = [[3, 1, 3, 1, 3, 3, 5]]\n",
        "beq = [1, 0, 0, 0, 0, -1]\n",
        "T_b = [9, 8]\n",
        "C = [2, 1, 2, 5, 2, 1, 2]\n",
        "\n",
        "bounds = tuple([(0, None) for arc in range(0, Aeq.shape[1])])\n",
        "    \n",
        "#optimization\n",
        "for j in range(len(T_b)):\n",
        "  \n",
        "    result = linprog(C, A_ub=T_a, b_ub=T_b[j], A_eq=Aeq, b_eq=beq, bounds=bounds, method='revised simplex')\n",
        "\n",
        "    #printing results\n",
        "    print(\"\\nAmount sent through each arc: \")\n",
        "    for i in range(len(result.x)):\n",
        "        print(arcs[i], \"->\", format(result.x[i],'.2f'))\n",
        "    print(\"\\nCost: \", result.fun)\n",
        "    \n",
        "    res = True in (ele == 1 for ele in result.x) \n",
        "    print(\"With\",T_b[j], \"hours is the result feasible?\", \": \", res)"
      ],
      "execution_count": 18,
      "outputs": [
        {
          "output_type": "stream",
          "text": [
            "\n",
            "Amount sent through each arc: \n",
            "(0, 1) -> 0.00\n",
            "(0, 2) -> 1.00\n",
            "(1, 3) -> 0.00\n",
            "(1, 5) -> 0.00\n",
            "(2, 4) -> 1.00\n",
            "(3, 5) -> 0.00\n",
            "(4, 5) -> 1.00\n",
            "\n",
            "Cost:  5.0\n",
            "With 9 hours is the result feasible? :  True\n",
            "\n",
            "Amount sent through each arc: \n",
            "(0, 1) -> 0.20\n",
            "(0, 2) -> 0.80\n",
            "(1, 3) -> 0.00\n",
            "(1, 5) -> 0.20\n",
            "(2, 4) -> 0.80\n",
            "(3, 5) -> 0.00\n",
            "(4, 5) -> 0.80\n",
            "\n",
            "Cost:  5.4\n",
            "With 8 hours is the result feasible? :  False\n"
          ],
          "name": "stdout"
        },
        {
          "output_type": "stream",
          "text": [
            "/usr/local/lib/python3.6/dist-packages/ipykernel_launcher.py:43: OptimizeWarning: A_eq does not appear to be of full row rank. To improve performance, check the problem formulation for redundant equality constraints.\n"
          ],
          "name": "stderr"
        }
      ]
    }
  ]
}